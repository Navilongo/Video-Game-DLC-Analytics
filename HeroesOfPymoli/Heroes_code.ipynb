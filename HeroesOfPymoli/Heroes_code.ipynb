{
 "cells": [
  {
   "cell_type": "code",
   "execution_count": 1,
   "id": "literary-installation",
   "metadata": {},
   "outputs": [],
   "source": [
    "import pandas as pd"
   ]
  },
  {
   "cell_type": "code",
   "execution_count": 2,
   "id": "dense-sheriff",
   "metadata": {},
   "outputs": [
    {
     "data": {
      "text/html": [
       "<div>\n",
       "<style scoped>\n",
       "    .dataframe tbody tr th:only-of-type {\n",
       "        vertical-align: middle;\n",
       "    }\n",
       "\n",
       "    .dataframe tbody tr th {\n",
       "        vertical-align: top;\n",
       "    }\n",
       "\n",
       "    .dataframe thead th {\n",
       "        text-align: right;\n",
       "    }\n",
       "</style>\n",
       "<table border=\"1\" class=\"dataframe\">\n",
       "  <thead>\n",
       "    <tr style=\"text-align: right;\">\n",
       "      <th></th>\n",
       "      <th>Purchase ID</th>\n",
       "      <th>SN</th>\n",
       "      <th>Age</th>\n",
       "      <th>Gender</th>\n",
       "      <th>Item ID</th>\n",
       "      <th>Item Name</th>\n",
       "      <th>Price</th>\n",
       "    </tr>\n",
       "  </thead>\n",
       "  <tbody>\n",
       "    <tr>\n",
       "      <th>0</th>\n",
       "      <td>0</td>\n",
       "      <td>Lisim78</td>\n",
       "      <td>20</td>\n",
       "      <td>Male</td>\n",
       "      <td>108</td>\n",
       "      <td>Extraction, Quickblade Of Trembling Hands</td>\n",
       "      <td>3.53</td>\n",
       "    </tr>\n",
       "    <tr>\n",
       "      <th>1</th>\n",
       "      <td>1</td>\n",
       "      <td>Lisovynya38</td>\n",
       "      <td>40</td>\n",
       "      <td>Male</td>\n",
       "      <td>143</td>\n",
       "      <td>Frenzied Scimitar</td>\n",
       "      <td>1.56</td>\n",
       "    </tr>\n",
       "    <tr>\n",
       "      <th>2</th>\n",
       "      <td>2</td>\n",
       "      <td>Ithergue48</td>\n",
       "      <td>24</td>\n",
       "      <td>Male</td>\n",
       "      <td>92</td>\n",
       "      <td>Final Critic</td>\n",
       "      <td>4.88</td>\n",
       "    </tr>\n",
       "    <tr>\n",
       "      <th>3</th>\n",
       "      <td>3</td>\n",
       "      <td>Chamassasya86</td>\n",
       "      <td>24</td>\n",
       "      <td>Male</td>\n",
       "      <td>100</td>\n",
       "      <td>Blindscythe</td>\n",
       "      <td>3.27</td>\n",
       "    </tr>\n",
       "    <tr>\n",
       "      <th>4</th>\n",
       "      <td>4</td>\n",
       "      <td>Iskosia90</td>\n",
       "      <td>23</td>\n",
       "      <td>Male</td>\n",
       "      <td>131</td>\n",
       "      <td>Fury</td>\n",
       "      <td>1.44</td>\n",
       "    </tr>\n",
       "  </tbody>\n",
       "</table>\n",
       "</div>"
      ],
      "text/plain": [
       "   Purchase ID             SN  Age Gender  Item ID  \\\n",
       "0            0        Lisim78   20   Male      108   \n",
       "1            1    Lisovynya38   40   Male      143   \n",
       "2            2     Ithergue48   24   Male       92   \n",
       "3            3  Chamassasya86   24   Male      100   \n",
       "4            4      Iskosia90   23   Male      131   \n",
       "\n",
       "                                   Item Name  Price  \n",
       "0  Extraction, Quickblade Of Trembling Hands   3.53  \n",
       "1                          Frenzied Scimitar   1.56  \n",
       "2                               Final Critic   4.88  \n",
       "3                                Blindscythe   3.27  \n",
       "4                                       Fury   1.44  "
      ]
     },
     "execution_count": 2,
     "metadata": {},
     "output_type": "execute_result"
    }
   ],
   "source": [
    "# Refer to the CSV to pull information\n",
    "file_to_load = \"Resources/purchase_data.csv\"\n",
    "\n",
    "# Read Purchasing File and store into Pandas data frame\n",
    "purchase_data = pd.read_csv(file_to_load)\n",
    "\n",
    "# Check csv is being read and pull first 5 rows to get an idea of what the original csv contains\n",
    "purchase_data.head(5)"
   ]
  },
  {
   "cell_type": "code",
   "execution_count": 3,
   "id": "limiting-exemption",
   "metadata": {},
   "outputs": [
    {
     "data": {
      "text/plain": [
       "Lisosia93        5\n",
       "Idastidru52      4\n",
       "Iral74           4\n",
       "Chamjask73       3\n",
       "Saistyphos30     3\n",
       "                ..\n",
       "Chamimla73       1\n",
       "Phiarithdeu40    1\n",
       "Chadossa56       1\n",
       "Minduri31        1\n",
       "Pheulidil31      1\n",
       "Name: SN, Length: 576, dtype: int64"
      ]
     },
     "execution_count": 3,
     "metadata": {},
     "output_type": "execute_result"
    }
   ],
   "source": [
    "# Check how many items each player (by Screen Name) purchased\n",
    "player_purchases = purchase_data[\"SN\"].value_counts()\n",
    "player_purchases"
   ]
  },
  {
   "cell_type": "code",
   "execution_count": 4,
   "id": "interim-poultry",
   "metadata": {},
   "outputs": [],
   "source": [
    "# Count how many different playes purchased items (identified by Screen Names)\n",
    "num_of_players = len(pd.unique(purchase_data['SN'])) \n"
   ]
  },
  {
   "cell_type": "code",
   "execution_count": 5,
   "id": "cross-anniversary",
   "metadata": {},
   "outputs": [
    {
     "name": "stdout",
     "output_type": "stream",
     "text": [
      "Total Number of Players is = 576\n"
     ]
    }
   ],
   "source": [
    "print(f\"Total Number of Players is = {num_of_players}\")"
   ]
  },
  {
   "cell_type": "code",
   "execution_count": 6,
   "id": "immediate-discussion",
   "metadata": {},
   "outputs": [
    {
     "data": {
      "text/plain": [
       "Purchase ID      int64\n",
       "SN              object\n",
       "Age              int64\n",
       "Gender          object\n",
       "Item ID          int64\n",
       "Item Name       object\n",
       "Price          float64\n",
       "dtype: object"
      ]
     },
     "execution_count": 6,
     "metadata": {},
     "output_type": "execute_result"
    }
   ],
   "source": [
    "# Determine data type of \"Item ID\" to find how many unique items there are. \n",
    "purchase_data.dtypes"
   ]
  },
  {
   "cell_type": "code",
   "execution_count": 7,
   "id": "weekly-disclosure",
   "metadata": {},
   "outputs": [
    {
     "data": {
      "text/plain": [
       "Purchase ID      int64\n",
       "SN              object\n",
       "Age              int64\n",
       "Gender          object\n",
       "Item ID        float64\n",
       "Item Name       object\n",
       "Price          float64\n",
       "dtype: object"
      ]
     },
     "execution_count": 7,
     "metadata": {},
     "output_type": "execute_result"
    }
   ],
   "source": [
    "# Could not count Item IDs; convert Item ID column into floats\n",
    "purchase_data.loc[:, \"Item ID\"] = purchase_data[\"Item ID\"].astype(\"float\")\n",
    "purchase_data.dtypes"
   ]
  },
  {
   "cell_type": "code",
   "execution_count": 8,
   "id": "forward-queue",
   "metadata": {},
   "outputs": [
    {
     "data": {
      "text/plain": [
       "179"
      ]
     },
     "execution_count": 8,
     "metadata": {},
     "output_type": "execute_result"
    }
   ],
   "source": [
    "# Count how many unique items there are within Item ID\n",
    "unique_ID = len(pd.unique(purchase_data[\"Item ID\"]))\n",
    "unique_ID"
   ]
  },
  {
   "cell_type": "code",
   "execution_count": 9,
   "id": "legitimate-possible",
   "metadata": {},
   "outputs": [
    {
     "data": {
      "text/plain": [
       "'$2,379.77'"
      ]
     },
     "execution_count": 9,
     "metadata": {},
     "output_type": "execute_result"
    }
   ],
   "source": [
    "# Add total revenue by using .sum on \"Price\" column\n",
    "total_revenue = purchase_data[\"Price\"].sum()\n",
    "\n",
    "\n",
    "total_revenue"
   ]
  },
  {
   "cell_type": "code",
   "execution_count": 10,
   "id": "premier-wichita",
   "metadata": {},
   "outputs": [
    {
     "data": {
      "text/plain": [
       "780"
      ]
     },
     "execution_count": 10,
     "metadata": {},
     "output_type": "execute_result"
    }
   ],
   "source": [
    "# Find total number of purchases\n",
    "purchase_amount = len(purchase_data)\n",
    "purchase_amount"
   ]
  },
  {
   "cell_type": "code",
   "execution_count": 19,
   "id": "joint-daughter",
   "metadata": {},
   "outputs": [
    {
     "ename": "TypeError",
     "evalue": "unsupported operand type(s) for /: 'str' and 'int'",
     "output_type": "error",
     "traceback": [
      "\u001b[1;31m---------------------------------------------------------------------------\u001b[0m",
      "\u001b[1;31mTypeError\u001b[0m                                 Traceback (most recent call last)",
      "\u001b[1;32m<ipython-input-19-b236d7623595>\u001b[0m in \u001b[0;36m<module>\u001b[1;34m\u001b[0m\n\u001b[0;32m      1\u001b[0m \u001b[1;31m# Find the average price of each item\u001b[0m\u001b[1;33m\u001b[0m\u001b[1;33m\u001b[0m\u001b[1;33m\u001b[0m\u001b[0m\n\u001b[1;32m----> 2\u001b[1;33m \u001b[0mprice_average\u001b[0m \u001b[1;33m=\u001b[0m \u001b[1;33m(\u001b[0m\u001b[0mtotal_revenue\u001b[0m\u001b[1;33m/\u001b[0m\u001b[0mpurchase_amount\u001b[0m\u001b[1;33m)\u001b[0m\u001b[1;33m\u001b[0m\u001b[1;33m\u001b[0m\u001b[0m\n\u001b[0m\u001b[0;32m      3\u001b[0m \u001b[1;33m\u001b[0m\u001b[0m\n\u001b[0;32m      4\u001b[0m \u001b[0mprice_average\u001b[0m\u001b[1;33m\u001b[0m\u001b[1;33m\u001b[0m\u001b[0m\n",
      "\u001b[1;31mTypeError\u001b[0m: unsupported operand type(s) for /: 'str' and 'int'"
     ]
    }
   ],
   "source": [
    "# Find the average price of each item\n",
    "price_average = (total_revenue/purchase_amount)\n",
    "\n",
    "price_average"
   ]
  },
  {
   "cell_type": "code",
   "execution_count": null,
   "id": "higher-edition",
   "metadata": {},
   "outputs": [],
   "source": [
    "price_average = \"${:,.2f}\".format(price_average)\n",
    "total_revenue = \"${:,.2f}\".format(total_revenue)"
   ]
  },
  {
   "cell_type": "code",
   "execution_count": null,
   "id": "loving-video",
   "metadata": {},
   "outputs": [],
   "source": [
    "# Create lists for each variable \n",
    "purchasing_analysis = [{\"Unique Items\": unique_ID, \"Average Price\": price_average, \"Number of Purchases\": purchase_amount, \"Total Revenue\": total_revenue}]\n",
    "  \n",
    "# Create DataFrame of lists to demonstrate totals\n",
    "totals_df = pd.DataFrame(purchasing_analysis) \n",
    "\n",
    "totals_df"
   ]
  },
  {
   "cell_type": "code",
   "execution_count": null,
   "id": "romantic-safety",
   "metadata": {},
   "outputs": [],
   "source": [
    "gender_count = purchase_data[\"Gender\"].value_counts()\n",
    "gender_count"
   ]
  },
  {
   "cell_type": "code",
   "execution_count": null,
   "id": "motivated-seattle",
   "metadata": {},
   "outputs": [],
   "source": [
    "# Isolating Male data\n",
    "male_players = purchase_data.loc[purchase_data[\"Gender\"] == \"Male\", :]\n",
    "male_players.head(5)"
   ]
  },
  {
   "cell_type": "code",
   "execution_count": null,
   "id": "english-volleyball",
   "metadata": {},
   "outputs": [],
   "source": [
    "# Isolating Female & Other data\n",
    "female_players = purchase_data.loc[purchase_data[\"Gender\"] == \"Female\", :]\n",
    "other_players = purchase_data.loc[purchase_data[\"Gender\"] == \"Other / Non-Disclosed\", :]\n"
   ]
  },
  {
   "cell_type": "code",
   "execution_count": null,
   "id": "scientific-chambers",
   "metadata": {},
   "outputs": [],
   "source": [
    "# Separate genders and count them\n",
    "male = male_players[\"SN\"].value_counts()\n",
    "total_male = len(male)\n",
    "female = female_players[\"SN\"].value_counts()\n",
    "total_female = len(female)\n",
    "other = other_players[\"SN\"].value_counts()\n",
    "total_other = len(other)\n",
    "\n",
    "# Check that I have the correct result\n",
    "print(f\"Female = {total_female}\")\n",
    "print(f\"Male = {total_male}\")\n",
    "print(f\"Other = {total_other}\")"
   ]
  },
  {
   "cell_type": "code",
   "execution_count": null,
   "id": "treated-steam",
   "metadata": {},
   "outputs": [],
   "source": [
    "# Using the total for each, find percentage from total number of players\n",
    "percent_male = (total_male/num_of_players)\n",
    "percent_female = (total_female/num_of_players)\n",
    "percent_other = (total_other/num_of_players)\n"
   ]
  },
  {
   "cell_type": "code",
   "execution_count": null,
   "id": "stuck-light",
   "metadata": {},
   "outputs": [],
   "source": [
    "# Format the percentages to appear properly in the df\n",
    "percent_male = \"{:.2%}\".format(percent_male)\n",
    "percent_female = \"{:.2%}\".format(percent_female)\n",
    "percent_other = \"{:.2%}\".format(percent_other)"
   ]
  },
  {
   "cell_type": "code",
   "execution_count": null,
   "id": "right-salem",
   "metadata": {},
   "outputs": [],
   "source": [
    "# Create data frame with the information necessary for Totals and Percentage for each\n",
    "demo_summary = pd.DataFrame({\n",
    "    \"Total Male\":[total_male, total_female, total_other],\n",
    "    \"Percent\":[percent_male, percent_female, percent_other]},\n",
    "    {\"Male\":[],\n",
    "    \"Female\":[],\n",
    "     \"Other / Non-Disclosed\":[],\n",
    "   })\n",
    "demo_summary"
   ]
  },
  {
   "cell_type": "code",
   "execution_count": null,
   "id": "rental-individual",
   "metadata": {},
   "outputs": [],
   "source": [
    "\n"
   ]
  },
  {
   "cell_type": "code",
   "execution_count": null,
   "id": "existing-dating",
   "metadata": {},
   "outputs": [],
   "source": [
    "fem_players = purchase_data.loc[purchase_data[\"Gender\"] == \"Female\", :]\n",
    "fem_players.head(5)"
   ]
  },
  {
   "cell_type": "code",
   "execution_count": null,
   "id": "present-southwest",
   "metadata": {},
   "outputs": [],
   "source": []
  },
  {
   "cell_type": "code",
   "execution_count": null,
   "id": "documented-irrigation",
   "metadata": {},
   "outputs": [],
   "source": [
    "# Remind: update formats for prices in Totals_df"
   ]
  }
 ],
 "metadata": {
  "kernelspec": {
   "display_name": "Python [conda env:PythonData] *",
   "language": "python",
   "name": "conda-env-PythonData-py"
  },
  "language_info": {
   "codemirror_mode": {
    "name": "ipython",
    "version": 3
   },
   "file_extension": ".py",
   "mimetype": "text/x-python",
   "name": "python",
   "nbconvert_exporter": "python",
   "pygments_lexer": "ipython3",
   "version": "3.6.10"
  }
 },
 "nbformat": 4,
 "nbformat_minor": 5
}
